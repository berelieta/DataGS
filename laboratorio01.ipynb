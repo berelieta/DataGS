{
 "cells": [
  {
   "cell_type": "markdown",
   "metadata": {},
   "source": [
    "<img src=https://upload.wikimedia.org/wikipedia/commons/c/c3/Python-logo-notext.svg >"
   ]
  },
  {
   "cell_type": "code",
   "execution_count": null,
   "metadata": {},
   "outputs": [],
   "source": [
    "#https://upload.wikimedia.org/wikipedia/commons/c/c3/Python-logo-notext.svg\n",
    "# número de header es el número de símbolos gato y el tipo de celda debe ser markdown"
   ]
  },
  {
   "cell_type": "code",
   "execution_count": 4,
   "metadata": {},
   "outputs": [
    {
     "name": "stdout",
     "output_type": "stream",
     "text": [
      "3.8.5\n"
     ]
    }
   ],
   "source": [
    "from platform import python_version\n",
    "print(python_version())"
   ]
  },
  {
   "cell_type": "code",
   "execution_count": 5,
   "metadata": {},
   "outputs": [
    {
     "name": "stdout",
     "output_type": "stream",
     "text": [
      "Numero entero: 1\n",
      "Numero float: 99.9\n",
      "Numero complejo: (2-3j)\n"
     ]
    }
   ],
   "source": [
    "numero_int = 1\n",
    "numero_float = 99.9\n",
    "numero_complejo = complex(2, -3)\n",
    "\n",
    "print('Numero entero: '+ str(numero_int))\n",
    "print('Numero float: '+ str(numero_float))\n",
    "print('Numero complejo: '+ str(numero_complejo))"
   ]
  },
  {
   "cell_type": "code",
   "execution_count": 9,
   "metadata": {},
   "outputs": [
    {
     "data": {
      "text/plain": [
       "complex"
      ]
     },
     "execution_count": 9,
     "metadata": {},
     "output_type": "execute_result"
    }
   ],
   "source": [
    "# identificador tipos de datos\n",
    "type(numero_complejo)"
   ]
  },
  {
   "cell_type": "code",
   "execution_count": 10,
   "metadata": {},
   "outputs": [
    {
     "name": "stdout",
     "output_type": "stream",
     "text": [
      "2\n",
      "99.9\n",
      "(101.9-3j)\n"
     ]
    }
   ],
   "source": [
    "print(numero_int * 2)\n",
    "print(numero_int * numero_float)\n",
    "print(numero_float + numero_complejo)"
   ]
  },
  {
   "cell_type": "code",
   "execution_count": 18,
   "metadata": {},
   "outputs": [
    {
     "name": "stdout",
     "output_type": "stream",
     "text": [
      "nv\n"
     ]
    }
   ],
   "source": [
    "# cadena de carácteres\n",
    "cad = 'Bienvenidos al curso de Data science'\n",
    "\n",
    "# separación de una cadena\n",
    "print(cad[3:5]) # de la posición 3 a la 5 menos 1 por eso sólo muestra nv, en python el primer elemento es 0"
   ]
  },
  {
   "cell_type": "code",
   "execution_count": 14,
   "metadata": {},
   "outputs": [
    {
     "data": {
      "text/plain": [
       "36"
      ]
     },
     "execution_count": 14,
     "metadata": {},
     "output_type": "execute_result"
    }
   ],
   "source": [
    "# tamaño de una cadena\n",
    "len(cad)"
   ]
  },
  {
   "cell_type": "code",
   "execution_count": 19,
   "metadata": {},
   "outputs": [
    {
     "name": "stdout",
     "output_type": "stream",
     "text": [
      "e\n"
     ]
    }
   ],
   "source": [
    "# acceder a una posición\n",
    "# indexado -1 significa que queremos ir al último carácter de nuestra cadena\n",
    "print(cad[-1])"
   ]
  },
  {
   "cell_type": "code",
   "execution_count": 20,
   "metadata": {},
   "outputs": [
    {
     "name": "stdout",
     "output_type": "stream",
     "text": [
      "ce\n"
     ]
    }
   ],
   "source": [
    "# nos da los últimos 2 carácteres de nuestra cadena\n",
    "print(cad[-2:])"
   ]
  },
  {
   "cell_type": "markdown",
   "metadata": {},
   "source": [
    "# Estructuras de datos\n",
    "\n",
    "Listas: son arreglos de tamaño dinámico, no tienen porque siempre ser homogeneas\n",
    "    "
   ]
  },
  {
   "cell_type": "code",
   "execution_count": 21,
   "metadata": {},
   "outputs": [
    {
     "data": {
      "text/plain": [
       "[1, 2, 3, 4, 5, 6.1, 'Hello World']"
      ]
     },
     "execution_count": 21,
     "metadata": {},
     "output_type": "execute_result"
    }
   ],
   "source": [
    "mi_lista = [1,2,3,4,5,6.1,'Hello World']\n",
    "mi_lista"
   ]
  },
  {
   "cell_type": "code",
   "execution_count": 22,
   "metadata": {},
   "outputs": [
    {
     "name": "stdout",
     "output_type": "stream",
     "text": [
      "1\n",
      "2\n",
      "3\n",
      "4\n",
      "5\n",
      "6.1\n",
      "Hello World\n"
     ]
    }
   ],
   "source": [
    "# iterar una lista\n",
    "for contenido in mi_lista:\n",
    "    print(contenido)"
   ]
  },
  {
   "cell_type": "code",
   "execution_count": 23,
   "metadata": {},
   "outputs": [
    {
     "name": "stdout",
     "output_type": "stream",
     "text": [
      "Hello World\n"
     ]
    }
   ],
   "source": [
    "# acceder a un elemento en la lista\n",
    "print(mi_lista[6])"
   ]
  },
  {
   "cell_type": "code",
   "execution_count": 24,
   "metadata": {},
   "outputs": [
    {
     "name": "stdout",
     "output_type": "stream",
     "text": [
      "[1, 2, 3, 4, 5, 6.1, 'Bienvenido al curso']\n"
     ]
    }
   ],
   "source": [
    "# modificar elemento en una lista\n",
    "mi_lista[6] = 'Bienvenido al curso'\n",
    "print(mi_lista)"
   ]
  },
  {
   "cell_type": "code",
   "execution_count": 26,
   "metadata": {},
   "outputs": [
    {
     "name": "stdout",
     "output_type": "stream",
     "text": [
      "[1, 2, 3, 4, 5, 6.1]\n"
     ]
    }
   ],
   "source": [
    "# eliminar un elemento por contenido\n",
    "mi_lista.remove('Bienvenido al curso')\n",
    "print(mi_lista)"
   ]
  },
  {
   "cell_type": "code",
   "execution_count": null,
   "metadata": {},
   "outputs": [],
   "source": []
  }
 ],
 "metadata": {
  "kernelspec": {
   "display_name": "Python 3",
   "language": "python",
   "name": "python3"
  },
  "language_info": {
   "codemirror_mode": {
    "name": "ipython",
    "version": 3
   },
   "file_extension": ".py",
   "mimetype": "text/x-python",
   "name": "python",
   "nbconvert_exporter": "python",
   "pygments_lexer": "ipython3",
   "version": "3.8.5"
  }
 },
 "nbformat": 4,
 "nbformat_minor": 4
}
